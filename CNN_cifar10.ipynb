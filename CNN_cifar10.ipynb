{
  "nbformat": 4,
  "nbformat_minor": 0,
  "metadata": {
    "colab": {
      "provenance": [],
      "authorship_tag": "ABX9TyPK9iqXMUoOexivRYrNlufb",
      "include_colab_link": true
    },
    "kernelspec": {
      "name": "python3",
      "display_name": "Python 3"
    },
    "language_info": {
      "name": "python"
    }
  },
  "cells": [
    {
      "cell_type": "markdown",
      "metadata": {
        "id": "view-in-github",
        "colab_type": "text"
      },
      "source": [
        "<a href=\"https://colab.research.google.com/github/RiniPaul86/Assignment/blob/main/CNN_cifar10.ipynb\" target=\"_parent\"><img src=\"https://colab.research.google.com/assets/colab-badge.svg\" alt=\"Open In Colab\"/></a>"
      ]
    },
    {
      "cell_type": "markdown",
      "source": [
        "#Image Classification of Cifar-10 Using CNN\n",
        "\n",
        "####The CIFAR-10 dataset is a popular benchmark dataset used in the field of machine learning and computer vision. It stands for the \"Canadian Institute for Advanced Research\" and \"10\" refers to the number of classes in the dataset.\n",
        "\n",
        "The CIFAR-10 dataset consists of 60,000 32x32 color images in 10 different classes, with 6,000 images per class. The classes are:\n",
        "\n",
        "Airplane,\n",
        "Automobile,\n",
        "Bird,\n",
        "Cat,\n",
        "Deer,\n",
        "Dog,\n",
        "Frog,\n",
        "Horse,\n",
        "Ship,\n",
        "Truck\n",
        "\n",
        "These images are typically split into training and testing sets, with 50,000 images used for training and 10,000 images used for testing/validation.\n",
        "\n",
        "CIFAR-10 is often used as a benchmark dataset for image classification tasks because of its relatively small size and its diverse set of classes. Researchers and practitioners use it to develop and evaluate various machine learning and deep learning algorithms for tasks such as object recognition, image classification, and image segmentation.\n",
        "\n",
        "\n",
        "\n"
      ],
      "metadata": {
        "id": "g2EyBFL8Xp31"
      }
    },
    {
      "cell_type": "code",
      "source": [
        "!pip install tensorflow"
      ],
      "metadata": {
        "colab": {
          "base_uri": "https://localhost:8080/"
        },
        "id": "5uKvd0JLZeGB",
        "outputId": "3a93293f-5995-4eb5-d6ca-b368127a8285"
      },
      "execution_count": 1,
      "outputs": [
        {
          "output_type": "stream",
          "name": "stdout",
          "text": [
            "Requirement already satisfied: tensorflow in /usr/local/lib/python3.10/dist-packages (2.15.0)\n",
            "Requirement already satisfied: absl-py>=1.0.0 in /usr/local/lib/python3.10/dist-packages (from tensorflow) (1.4.0)\n",
            "Requirement already satisfied: astunparse>=1.6.0 in /usr/local/lib/python3.10/dist-packages (from tensorflow) (1.6.3)\n",
            "Requirement already satisfied: flatbuffers>=23.5.26 in /usr/local/lib/python3.10/dist-packages (from tensorflow) (23.5.26)\n",
            "Requirement already satisfied: gast!=0.5.0,!=0.5.1,!=0.5.2,>=0.2.1 in /usr/local/lib/python3.10/dist-packages (from tensorflow) (0.5.4)\n",
            "Requirement already satisfied: google-pasta>=0.1.1 in /usr/local/lib/python3.10/dist-packages (from tensorflow) (0.2.0)\n",
            "Requirement already satisfied: h5py>=2.9.0 in /usr/local/lib/python3.10/dist-packages (from tensorflow) (3.9.0)\n",
            "Requirement already satisfied: libclang>=13.0.0 in /usr/local/lib/python3.10/dist-packages (from tensorflow) (16.0.6)\n",
            "Requirement already satisfied: ml-dtypes~=0.2.0 in /usr/local/lib/python3.10/dist-packages (from tensorflow) (0.2.0)\n",
            "Requirement already satisfied: numpy<2.0.0,>=1.23.5 in /usr/local/lib/python3.10/dist-packages (from tensorflow) (1.23.5)\n",
            "Requirement already satisfied: opt-einsum>=2.3.2 in /usr/local/lib/python3.10/dist-packages (from tensorflow) (3.3.0)\n",
            "Requirement already satisfied: packaging in /usr/local/lib/python3.10/dist-packages (from tensorflow) (23.2)\n",
            "Requirement already satisfied: protobuf!=4.21.0,!=4.21.1,!=4.21.2,!=4.21.3,!=4.21.4,!=4.21.5,<5.0.0dev,>=3.20.3 in /usr/local/lib/python3.10/dist-packages (from tensorflow) (3.20.3)\n",
            "Requirement already satisfied: setuptools in /usr/local/lib/python3.10/dist-packages (from tensorflow) (67.7.2)\n",
            "Requirement already satisfied: six>=1.12.0 in /usr/local/lib/python3.10/dist-packages (from tensorflow) (1.16.0)\n",
            "Requirement already satisfied: termcolor>=1.1.0 in /usr/local/lib/python3.10/dist-packages (from tensorflow) (2.4.0)\n",
            "Requirement already satisfied: typing-extensions>=3.6.6 in /usr/local/lib/python3.10/dist-packages (from tensorflow) (4.9.0)\n",
            "Requirement already satisfied: wrapt<1.15,>=1.11.0 in /usr/local/lib/python3.10/dist-packages (from tensorflow) (1.14.1)\n",
            "Requirement already satisfied: tensorflow-io-gcs-filesystem>=0.23.1 in /usr/local/lib/python3.10/dist-packages (from tensorflow) (0.36.0)\n",
            "Requirement already satisfied: grpcio<2.0,>=1.24.3 in /usr/local/lib/python3.10/dist-packages (from tensorflow) (1.60.1)\n",
            "Requirement already satisfied: tensorboard<2.16,>=2.15 in /usr/local/lib/python3.10/dist-packages (from tensorflow) (2.15.1)\n",
            "Requirement already satisfied: tensorflow-estimator<2.16,>=2.15.0 in /usr/local/lib/python3.10/dist-packages (from tensorflow) (2.15.0)\n",
            "Requirement already satisfied: keras<2.16,>=2.15.0 in /usr/local/lib/python3.10/dist-packages (from tensorflow) (2.15.0)\n",
            "Requirement already satisfied: wheel<1.0,>=0.23.0 in /usr/local/lib/python3.10/dist-packages (from astunparse>=1.6.0->tensorflow) (0.42.0)\n",
            "Requirement already satisfied: google-auth<3,>=1.6.3 in /usr/local/lib/python3.10/dist-packages (from tensorboard<2.16,>=2.15->tensorflow) (2.27.0)\n",
            "Requirement already satisfied: google-auth-oauthlib<2,>=0.5 in /usr/local/lib/python3.10/dist-packages (from tensorboard<2.16,>=2.15->tensorflow) (1.2.0)\n",
            "Requirement already satisfied: markdown>=2.6.8 in /usr/local/lib/python3.10/dist-packages (from tensorboard<2.16,>=2.15->tensorflow) (3.5.2)\n",
            "Requirement already satisfied: requests<3,>=2.21.0 in /usr/local/lib/python3.10/dist-packages (from tensorboard<2.16,>=2.15->tensorflow) (2.31.0)\n",
            "Requirement already satisfied: tensorboard-data-server<0.8.0,>=0.7.0 in /usr/local/lib/python3.10/dist-packages (from tensorboard<2.16,>=2.15->tensorflow) (0.7.2)\n",
            "Requirement already satisfied: werkzeug>=1.0.1 in /usr/local/lib/python3.10/dist-packages (from tensorboard<2.16,>=2.15->tensorflow) (3.0.1)\n",
            "Requirement already satisfied: cachetools<6.0,>=2.0.0 in /usr/local/lib/python3.10/dist-packages (from google-auth<3,>=1.6.3->tensorboard<2.16,>=2.15->tensorflow) (5.3.2)\n",
            "Requirement already satisfied: pyasn1-modules>=0.2.1 in /usr/local/lib/python3.10/dist-packages (from google-auth<3,>=1.6.3->tensorboard<2.16,>=2.15->tensorflow) (0.3.0)\n",
            "Requirement already satisfied: rsa<5,>=3.1.4 in /usr/local/lib/python3.10/dist-packages (from google-auth<3,>=1.6.3->tensorboard<2.16,>=2.15->tensorflow) (4.9)\n",
            "Requirement already satisfied: requests-oauthlib>=0.7.0 in /usr/local/lib/python3.10/dist-packages (from google-auth-oauthlib<2,>=0.5->tensorboard<2.16,>=2.15->tensorflow) (1.3.1)\n",
            "Requirement already satisfied: charset-normalizer<4,>=2 in /usr/local/lib/python3.10/dist-packages (from requests<3,>=2.21.0->tensorboard<2.16,>=2.15->tensorflow) (3.3.2)\n",
            "Requirement already satisfied: idna<4,>=2.5 in /usr/local/lib/python3.10/dist-packages (from requests<3,>=2.21.0->tensorboard<2.16,>=2.15->tensorflow) (3.6)\n",
            "Requirement already satisfied: urllib3<3,>=1.21.1 in /usr/local/lib/python3.10/dist-packages (from requests<3,>=2.21.0->tensorboard<2.16,>=2.15->tensorflow) (2.0.7)\n",
            "Requirement already satisfied: certifi>=2017.4.17 in /usr/local/lib/python3.10/dist-packages (from requests<3,>=2.21.0->tensorboard<2.16,>=2.15->tensorflow) (2024.2.2)\n",
            "Requirement already satisfied: MarkupSafe>=2.1.1 in /usr/local/lib/python3.10/dist-packages (from werkzeug>=1.0.1->tensorboard<2.16,>=2.15->tensorflow) (2.1.5)\n",
            "Requirement already satisfied: pyasn1<0.6.0,>=0.4.6 in /usr/local/lib/python3.10/dist-packages (from pyasn1-modules>=0.2.1->google-auth<3,>=1.6.3->tensorboard<2.16,>=2.15->tensorflow) (0.5.1)\n",
            "Requirement already satisfied: oauthlib>=3.0.0 in /usr/local/lib/python3.10/dist-packages (from requests-oauthlib>=0.7.0->google-auth-oauthlib<2,>=0.5->tensorboard<2.16,>=2.15->tensorflow) (3.2.2)\n"
          ]
        }
      ]
    },
    {
      "cell_type": "code",
      "source": [
        "!pip install keras"
      ],
      "metadata": {
        "colab": {
          "base_uri": "https://localhost:8080/"
        },
        "id": "S9xz5uYzZiJ0",
        "outputId": "97d1503b-29d8-4086-dff4-236d99bf910d"
      },
      "execution_count": 2,
      "outputs": [
        {
          "output_type": "stream",
          "name": "stdout",
          "text": [
            "Requirement already satisfied: keras in /usr/local/lib/python3.10/dist-packages (2.15.0)\n"
          ]
        }
      ]
    },
    {
      "cell_type": "markdown",
      "source": [
        "# ***Importing Necessary Libraries***"
      ],
      "metadata": {
        "id": "CGz5QSRdYnsQ"
      }
    },
    {
      "cell_type": "code",
      "execution_count": 3,
      "metadata": {
        "id": "Wt0Sx2XVWkvk"
      },
      "outputs": [],
      "source": [
        "from keras.datasets import mnist\n",
        "from keras.models import Sequential\n",
        "from keras.layers import Dense, Dropout, Conv2D, MaxPool2D, Flatten\n",
        "from keras.utils import to_categorical\n",
        "import tensorflow as tf\n",
        "import numpy as np\n",
        "import pandas as pd\n",
        "import matplotlib.pyplot as plt"
      ]
    },
    {
      "cell_type": "markdown",
      "source": [
        "# ***Loading the Dataset***"
      ],
      "metadata": {
        "id": "7_T45tplYtiC"
      }
    },
    {
      "cell_type": "code",
      "source": [
        "(train_images, train_labels), (test_images, test_labels) = tf.keras.datasets.cifar10.load_data()"
      ],
      "metadata": {
        "id": "0uaHAjV9YrB-"
      },
      "execution_count": 4,
      "outputs": []
    },
    {
      "cell_type": "markdown",
      "source": [
        "# ***Printing the shape of the dataset***\n"
      ],
      "metadata": {
        "id": "sqJPc8z9an1q"
      }
    },
    {
      "cell_type": "code",
      "source": [
        "print(\"train_images shape :\", train_images.shape)\n",
        "print(\"train_labels shape :\", train_labels.shape)\n",
        "print(\"test_images shape  :\", test_images.shape)\n",
        "print(\"test_labels shape  :\", test_labels.shape)"
      ],
      "metadata": {
        "colab": {
          "base_uri": "https://localhost:8080/"
        },
        "id": "4Et6pOybZwD3",
        "outputId": "cf327bf5-f29f-41e9-929b-adb8ee97dff6"
      },
      "execution_count": 5,
      "outputs": [
        {
          "output_type": "stream",
          "name": "stdout",
          "text": [
            "train_images shape : (50000, 32, 32, 3)\n",
            "train_labels shape : (50000, 1)\n",
            "test_images shape  : (10000, 32, 32, 3)\n",
            "test_labels shape  : (10000, 1)\n"
          ]
        }
      ]
    },
    {
      "cell_type": "code",
      "source": [
        "train_images[12]"
      ],
      "metadata": {
        "colab": {
          "base_uri": "https://localhost:8080/"
        },
        "id": "uAHRr-01j8P4",
        "outputId": "f0c351dd-6265-49c2-a7ab-02744a53ab6d"
      },
      "execution_count": 6,
      "outputs": [
        {
          "output_type": "execute_result",
          "data": {
            "text/plain": [
              "array([[[164, 215, 244],\n",
              "        [162, 212, 240],\n",
              "        [162, 212, 240],\n",
              "        ...,\n",
              "        [157, 210, 237],\n",
              "        [153, 208, 235],\n",
              "        [153, 203, 234]],\n",
              "\n",
              "       [[168, 218, 245],\n",
              "        [166, 215, 242],\n",
              "        [166, 215, 242],\n",
              "        ...,\n",
              "        [164, 212, 238],\n",
              "        [160, 209, 236],\n",
              "        [158, 205, 235]],\n",
              "\n",
              "       [[172, 220, 246],\n",
              "        [170, 217, 243],\n",
              "        [171, 218, 244],\n",
              "        ...,\n",
              "        [168, 212, 238],\n",
              "        [165, 208, 235],\n",
              "        [163, 207, 236]],\n",
              "\n",
              "       ...,\n",
              "\n",
              "       [[123, 160, 105],\n",
              "        [117, 154, 102],\n",
              "        [112, 149,  99],\n",
              "        ...,\n",
              "        [117, 136, 100],\n",
              "        [ 95, 115,  79],\n",
              "        [120, 149, 100]],\n",
              "\n",
              "       [[120, 156, 100],\n",
              "        [116, 151,  99],\n",
              "        [112, 147,  96],\n",
              "        ...,\n",
              "        [126, 149, 110],\n",
              "        [120, 144, 103],\n",
              "        [120, 152, 101]],\n",
              "\n",
              "       [[121, 154,  96],\n",
              "        [120, 152,  99],\n",
              "        [116, 148,  97],\n",
              "        ...,\n",
              "        [124, 152, 108],\n",
              "        [124, 154, 107],\n",
              "        [120, 154, 100]]], dtype=uint8)"
            ]
          },
          "metadata": {},
          "execution_count": 6
        }
      ]
    },
    {
      "cell_type": "code",
      "source": [
        "plt.imshow(train_images[12])\n",
        "plt.show()"
      ],
      "metadata": {
        "colab": {
          "base_uri": "https://localhost:8080/",
          "height": 430
        },
        "id": "jU8MK0W9j9_t",
        "outputId": "466e2d8f-1c7e-4963-d691-c922107e37ba"
      },
      "execution_count": 7,
      "outputs": [
        {
          "output_type": "display_data",
          "data": {
            "text/plain": [
              "<Figure size 640x480 with 1 Axes>"
            ],
            "image/png": "[encoded data removed]"
          },
          "metadata": {}
        }
      ]
    },
    {
      "cell_type": "code",
      "source": [
        "train_labels[12]"
      ],
      "metadata": {
        "colab": {
          "base_uri": "https://localhost:8080/"
        },
        "id": "k1s1q_GOcguM",
        "outputId": "ce61bea2-e8bc-4bff-b6e2-dd5299504399"
      },
      "execution_count": 8,
      "outputs": [
        {
          "output_type": "execute_result",
          "data": {
            "text/plain": [
              "array([7], dtype=uint8)"
            ]
          },
          "metadata": {},
          "execution_count": 8
        }
      ]
    },
    {
      "cell_type": "code",
      "source": [
        "# Mapping label integers to class names\n",
        "class_names = [\"airplane\", \"automobile\", \"bird\", \"cat\", \"deer\",\n",
        "               \"dog\", \"frog\", \"horse\", \"ship\", \"truck\"]\n",
        "\n",
        "\n",
        "# Assuming train_labels is loaded and contains the training labels\n",
        "print(\"Class of the first training image:\", class_names[train_labels[12][0]])"
      ],
      "metadata": {
        "colab": {
          "base_uri": "https://localhost:8080/"
        },
        "id": "WN66fE6NklqS",
        "outputId": "ff185caf-7f75-4c27-f10a-abe9f008c48a"
      },
      "execution_count": 9,
      "outputs": [
        {
          "output_type": "stream",
          "name": "stdout",
          "text": [
            "Class of the first training image: horse\n"
          ]
        }
      ]
    },
    {
      "cell_type": "markdown",
      "source": [
        "# ***Performing Data Pre-Processing***\n",
        "\n",
        "\n"
      ],
      "metadata": {
        "id": "eQDKvmK0nxBX"
      }
    },
    {
      "cell_type": "markdown",
      "source": [
        "## Building the input vector from the 32x32 pixels"
      ],
      "metadata": {
        "id": "Mpxsli4cn588"
      }
    },
    {
      "cell_type": "code",
      "source": [
        "train_images = train_images.reshape(train_images.shape[0], 32, 32, 3)\n",
        "test_images = test_images.reshape(test_images.shape[0], 32, 32, 3)\n",
        "train_images = train_images.astype('float32')\n",
        "test_images = test_images.astype('float32')"
      ],
      "metadata": {
        "id": "4R5xEriFk2SW"
      },
      "execution_count": 10,
      "outputs": []
    },
    {
      "cell_type": "code",
      "source": [
        "print(\"train_images shape :\", train_images.shape)\n",
        "print(\"train_labels shape :\", train_labels.shape)\n",
        "print(\"test_images shape  :\", test_images.shape)\n",
        "print(\"test_labels shape  :\", test_labels.shape)"
      ],
      "metadata": {
        "colab": {
          "base_uri": "https://localhost:8080/"
        },
        "id": "kSX1jMYbpTA2",
        "outputId": "a1229580-96eb-440c-d2dc-1ef4f7fb13ae"
      },
      "execution_count": 11,
      "outputs": [
        {
          "output_type": "stream",
          "name": "stdout",
          "text": [
            "train_images shape : (50000, 32, 32, 3)\n",
            "train_labels shape : (50000, 1)\n",
            "test_images shape  : (10000, 32, 32, 3)\n",
            "test_labels shape  : (10000, 1)\n"
          ]
        }
      ]
    },
    {
      "cell_type": "markdown",
      "source": [
        "## ***Normalizing the Images***"
      ],
      "metadata": {
        "id": "SDwK3SP-qN91"
      }
    },
    {
      "cell_type": "code",
      "source": [
        "# Normalize pixel values to the range [0, 1]\n",
        "train_images = train_images/ 255.0\n",
        "test_images = test_images/ 255.0"
      ],
      "metadata": {
        "id": "kAucNhhUqRcP"
      },
      "execution_count": 12,
      "outputs": []
    },
    {
      "cell_type": "code",
      "source": [
        "train_images[12]"
      ],
      "metadata": {
        "colab": {
          "base_uri": "https://localhost:8080/"
        },
        "id": "hZfmh5G8qxzp",
        "outputId": "7841b993-1f5b-4985-da86-0f8a6cc73863"
      },
      "execution_count": 13,
      "outputs": [
        {
          "output_type": "execute_result",
          "data": {
            "text/plain": [
              "array([[[0.6431373 , 0.84313726, 0.95686275],\n",
              "        [0.63529414, 0.83137256, 0.9411765 ],\n",
              "        [0.63529414, 0.83137256, 0.9411765 ],\n",
              "        ...,\n",
              "        [0.6156863 , 0.8235294 , 0.92941177],\n",
              "        [0.6       , 0.8156863 , 0.92156863],\n",
              "        [0.6       , 0.79607844, 0.91764706]],\n",
              "\n",
              "       [[0.65882355, 0.85490197, 0.9607843 ],\n",
              "        [0.6509804 , 0.84313726, 0.9490196 ],\n",
              "        [0.6509804 , 0.84313726, 0.9490196 ],\n",
              "        ...,\n",
              "        [0.6431373 , 0.83137256, 0.93333334],\n",
              "        [0.627451  , 0.81960785, 0.9254902 ],\n",
              "        [0.61960787, 0.8039216 , 0.92156863]],\n",
              "\n",
              "       [[0.6745098 , 0.8627451 , 0.9647059 ],\n",
              "        [0.6666667 , 0.8509804 , 0.9529412 ],\n",
              "        [0.67058825, 0.85490197, 0.95686275],\n",
              "        ...,\n",
              "        [0.65882355, 0.83137256, 0.93333334],\n",
              "        [0.64705884, 0.8156863 , 0.92156863],\n",
              "        [0.6392157 , 0.8117647 , 0.9254902 ]],\n",
              "\n",
              "       ...,\n",
              "\n",
              "       [[0.48235294, 0.627451  , 0.4117647 ],\n",
              "        [0.45882353, 0.6039216 , 0.4       ],\n",
              "        [0.4392157 , 0.58431375, 0.3882353 ],\n",
              "        ...,\n",
              "        [0.45882353, 0.53333336, 0.39215687],\n",
              "        [0.37254903, 0.4509804 , 0.30980393],\n",
              "        [0.47058824, 0.58431375, 0.39215687]],\n",
              "\n",
              "       [[0.47058824, 0.6117647 , 0.39215687],\n",
              "        [0.45490196, 0.5921569 , 0.3882353 ],\n",
              "        [0.4392157 , 0.5764706 , 0.3764706 ],\n",
              "        ...,\n",
              "        [0.49411765, 0.58431375, 0.43137255],\n",
              "        [0.47058824, 0.5647059 , 0.40392157],\n",
              "        [0.47058824, 0.59607846, 0.39607844]],\n",
              "\n",
              "       [[0.4745098 , 0.6039216 , 0.3764706 ],\n",
              "        [0.47058824, 0.59607846, 0.3882353 ],\n",
              "        [0.45490196, 0.5803922 , 0.38039216],\n",
              "        ...,\n",
              "        [0.4862745 , 0.59607846, 0.42352942],\n",
              "        [0.4862745 , 0.6039216 , 0.41960785],\n",
              "        [0.47058824, 0.6039216 , 0.39215687]]], dtype=float32)"
            ]
          },
          "metadata": {},
          "execution_count": 13
        }
      ]
    },
    {
      "cell_type": "code",
      "source": [
        "print(\"Min pixel value:\", train_images[0].min())\n",
        "print(\"Max pixel value:\", train_images[0].max())"
      ],
      "metadata": {
        "colab": {
          "base_uri": "https://localhost:8080/"
        },
        "id": "ERsRsKt2aKVv",
        "outputId": "95d36b30-e39d-42fe-96d0-1618594bcf19"
      },
      "execution_count": 14,
      "outputs": [
        {
          "output_type": "stream",
          "name": "stdout",
          "text": [
            "Min pixel value: 0.0\n",
            "Max pixel value: 1.0\n"
          ]
        }
      ]
    },
    {
      "cell_type": "markdown",
      "source": [
        "## ***Performing One-Hot encoding using keras' numpy-related utilities***"
      ],
      "metadata": {
        "id": "Hn0p50Koq_LJ"
      }
    },
    {
      "cell_type": "code",
      "source": [
        "n_classes = 10\n",
        "print(\"Shape before one-hot encoding : \",train_labels.shape)\n",
        "train_Labels = to_categorical(train_labels, n_classes)\n",
        "test_Labels  =  to_categorical(test_labels, n_classes)\n",
        "print(\"Shape after one-hot encoding  : \",train_Labels.shape)"
      ],
      "metadata": {
        "colab": {
          "base_uri": "https://localhost:8080/"
        },
        "id": "uhsBGy2gq9FI",
        "outputId": "2faeb3ba-8344-4e56-dd57-bc995bb3ff0e"
      },
      "execution_count": 15,
      "outputs": [
        {
          "output_type": "stream",
          "name": "stdout",
          "text": [
            "Shape before one-hot encoding :  (50000, 1)\n",
            "Shape after one-hot encoding  :  (50000, 10)\n"
          ]
        }
      ]
    },
    {
      "cell_type": "code",
      "source": [
        "train_labels[12]"
      ],
      "metadata": {
        "colab": {
          "base_uri": "https://localhost:8080/"
        },
        "id": "W_yA4UZtsjy5",
        "outputId": "53bf06ed-c387-4eee-bdeb-fe6c7f0215dc"
      },
      "execution_count": 16,
      "outputs": [
        {
          "output_type": "execute_result",
          "data": {
            "text/plain": [
              "array([7], dtype=uint8)"
            ]
          },
          "metadata": {},
          "execution_count": 16
        }
      ]
    },
    {
      "cell_type": "code",
      "source": [
        "train_Labels[12]"
      ],
      "metadata": {
        "colab": {
          "base_uri": "https://localhost:8080/"
        },
        "id": "UbuIaMLUsqKJ",
        "outputId": "0d9054f0-f8a4-4ba6-a4b2-1d88531e7e7d"
      },
      "execution_count": 17,
      "outputs": [
        {
          "output_type": "execute_result",
          "data": {
            "text/plain": [
              "array([0., 0., 0., 0., 0., 0., 0., 1., 0., 0.], dtype=float32)"
            ]
          },
          "metadata": {},
          "execution_count": 17
        }
      ]
    },
    {
      "cell_type": "markdown",
      "source": [
        "# ***Building the CNN Model***"
      ],
      "metadata": {
        "id": "T1pS48xgs6as"
      }
    },
    {
      "cell_type": "code",
      "source": [
        "# sequential layer\n",
        "model = Sequential()\n",
        "# 3 convolutional layer and 2 max pooling\n",
        "model.add(Conv2D(32, kernel_size=(3,3), strides=(1,1), padding='valid', activation='relu', input_shape=(32,32,3)))\n",
        "model.add(MaxPool2D(pool_size=(2,2)))\n",
        "model.add(Conv2D(64, (3, 3), activation='relu')),\n",
        "model.add(MaxPool2D((2, 2))),\n",
        "model.add(Conv2D(64, (3, 3), activation='relu')),\n",
        "# flatten output of convolutional layer\n",
        "model.add(Flatten())\n",
        "# hidden layer\n",
        "model.add(Dense(64, activation='relu'))\n",
        "# output layer\n",
        "model.add(Dense(10, activation='softmax'))"
      ],
      "metadata": {
        "id": "3bdjAORastvE"
      },
      "execution_count": 18,
      "outputs": []
    },
    {
      "cell_type": "markdown",
      "source": [
        "##***Summarizing the Model***"
      ],
      "metadata": {
        "id": "-eMUCV-ntNxG"
      }
    },
    {
      "cell_type": "code",
      "source": [
        "model.summary(line_length=100)"
      ],
      "metadata": {
        "colab": {
          "base_uri": "https://localhost:8080/"
        },
        "id": "kkRsxJJptORl",
        "outputId": "8fddaa86-b509-432c-a103-572e4179b8b2"
      },
      "execution_count": 19,
      "outputs": [
        {
          "output_type": "stream",
          "name": "stdout",
          "text": [
            "Model: \"sequential\"\n",
            "____________________________________________________________________________________________________\n",
            " Layer (type)                                Output Shape                            Param #        \n",
            "====================================================================================================\n",
            " conv2d (Conv2D)                             (None, 30, 30, 32)                      896            \n",
            "                                                                                                    \n",
            " max_pooling2d (MaxPooling2D)                (None, 15, 15, 32)                      0              \n",
            "                                                                                                    \n",
            " conv2d_1 (Conv2D)                           (None, 13, 13, 64)                      18496          \n",
            "                                                                                                    \n",
            " max_pooling2d_1 (MaxPooling2D)              (None, 6, 6, 64)                        0              \n",
            "                                                                                                    \n",
            " conv2d_2 (Conv2D)                           (None, 4, 4, 64)                        36928          \n",
            "                                                                                                    \n",
            " flatten (Flatten)                           (None, 1024)                            0              \n",
            "                                                                                                    \n",
            " dense (Dense)                               (None, 64)                              65600          \n",
            "                                                                                                    \n",
            " dense_1 (Dense)                             (None, 10)                              650            \n",
            "                                                                                                    \n",
            "====================================================================================================\n",
            "Total params: 122570 (478.79 KB)\n",
            "Trainable params: 122570 (478.79 KB)\n",
            "Non-trainable params: 0 (0.00 Byte)\n",
            "____________________________________________________________________________________________________\n"
          ]
        }
      ]
    },
    {
      "cell_type": "markdown",
      "source": [
        "# ***Compiling the Model***"
      ],
      "metadata": {
        "id": "dzErRcFQtiFA"
      }
    },
    {
      "cell_type": "code",
      "source": [
        "# compiling the sequential model\n",
        "model.compile(loss='categorical_crossentropy', metrics=['accuracy'], optimizer='adam')\n"
      ],
      "metadata": {
        "id": "PYrWiftttjR4"
      },
      "execution_count": 20,
      "outputs": []
    },
    {
      "cell_type": "markdown",
      "source": [
        "# ***Training the Model***"
      ],
      "metadata": {
        "id": "qxuHr4eftq-w"
      }
    },
    {
      "cell_type": "code",
      "source": [
        "model.fit(train_images,train_Labels,batch_size= 32, epochs=10)"
      ],
      "metadata": {
        "id": "zgQH8OSnto3m",
        "colab": {
          "base_uri": "https://localhost:8080/"
        },
        "outputId": "68a283d9-8604-4437-dac4-2e707ccfbae2"
      },
      "execution_count": 21,
      "outputs": [
        {
          "output_type": "stream",
          "name": "stdout",
          "text": [
            "Epoch 1/10\n",
            "1563/1563 [==============================] - 75s 47ms/step - loss: 1.5510 - accuracy: 0.4359\n",
            "Epoch 2/10\n",
            "1563/1563 [==============================] - 57s 36ms/step - loss: 1.1745 - accuracy: 0.5844\n",
            "Epoch 3/10\n",
            "1563/1563 [==============================] - 59s 38ms/step - loss: 1.0176 - accuracy: 0.6425\n",
            "Epoch 4/10\n",
            "1563/1563 [==============================] - 57s 37ms/step - loss: 0.9159 - accuracy: 0.6783\n",
            "Epoch 5/10\n",
            "1563/1563 [==============================] - 57s 36ms/step - loss: 0.8412 - accuracy: 0.7062\n",
            "Epoch 6/10\n",
            "1563/1563 [==============================] - 57s 36ms/step - loss: 0.7772 - accuracy: 0.7263\n",
            "Epoch 7/10\n",
            "1563/1563 [==============================] - 57s 36ms/step - loss: 0.7205 - accuracy: 0.7468\n",
            "Epoch 8/10\n",
            "1563/1563 [==============================] - 56s 36ms/step - loss: 0.6783 - accuracy: 0.7625\n",
            "Epoch 9/10\n",
            "1563/1563 [==============================] - 58s 37ms/step - loss: 0.6308 - accuracy: 0.7789\n",
            "Epoch 10/10\n",
            "1563/1563 [==============================] - 56s 36ms/step - loss: 0.5969 - accuracy: 0.7905\n"
          ]
        },
        {
          "output_type": "execute_result",
          "data": {
            "text/plain": [
              "<keras.src.callbacks.History at 0x7a57aa66efb0>"
            ]
          },
          "metadata": {},
          "execution_count": 21
        }
      ]
    },
    {
      "cell_type": "markdown",
      "source": [
        "# ***Evaluating the Model***"
      ],
      "metadata": {
        "id": "EcZlv8j-Wjqf"
      }
    },
    {
      "cell_type": "code",
      "source": [
        "test_loss, test_acc = model.evaluate(test_images, test_Labels)"
      ],
      "metadata": {
        "id": "fc8NTpkXtt4D",
        "colab": {
          "base_uri": "https://localhost:8080/"
        },
        "outputId": "f18206a2-d63a-4d8c-f773-31714e4ac2e5"
      },
      "execution_count": 22,
      "outputs": [
        {
          "output_type": "stream",
          "name": "stdout",
          "text": [
            "313/313 [==============================] - 4s 11ms/step - loss: 0.9310 - accuracy: 0.7020\n"
          ]
        }
      ]
    },
    {
      "cell_type": "code",
      "source": [
        "print('Model Accuracy :', test_acc)\n",
        "print('Model Loss     :', test_loss)"
      ],
      "metadata": {
        "colab": {
          "base_uri": "https://localhost:8080/"
        },
        "id": "pAXeP6z5W6Fg",
        "outputId": "63368890-f740-495d-9cb4-b704a7974457"
      },
      "execution_count": 23,
      "outputs": [
        {
          "output_type": "stream",
          "name": "stdout",
          "text": [
            "Model Accuracy : 0.7020000219345093\n",
            "Model Loss     : 0.931014358997345\n"
          ]
        }
      ]
    },
    {
      "cell_type": "markdown",
      "source": [
        "# ***Performing the Prediction using the Trained Model***"
      ],
      "metadata": {
        "id": "qzUYKbXjW-KC"
      }
    },
    {
      "cell_type": "code",
      "source": [
        "test_images[29]"
      ],
      "metadata": {
        "colab": {
          "base_uri": "https://localhost:8080/"
        },
        "id": "6O3eOrQMXADO",
        "outputId": "c2947d78-6f97-4579-ec61-9773c4693619"
      },
      "execution_count": 24,
      "outputs": [
        {
          "output_type": "execute_result",
          "data": {
            "text/plain": [
              "array([[[0.34509805, 0.5058824 , 0.16470589],\n",
              "        [0.3254902 , 0.5411765 , 0.16470589],\n",
              "        [0.39607844, 0.6666667 , 0.21176471],\n",
              "        ...,\n",
              "        [0.44313726, 0.61960787, 0.20392157],\n",
              "        [0.4       , 0.54509807, 0.18039216],\n",
              "        [0.36078432, 0.48235294, 0.14901961]],\n",
              "\n",
              "       [[0.36078432, 0.5019608 , 0.1254902 ],\n",
              "        [0.43137255, 0.6392157 , 0.27058825],\n",
              "        [0.5137255 , 0.69411767, 0.3529412 ],\n",
              "        ...,\n",
              "        [0.4392157 , 0.5921569 , 0.15294118],\n",
              "        [0.41960785, 0.5921569 , 0.17254902],\n",
              "        [0.41568628, 0.6117647 , 0.21176471]],\n",
              "\n",
              "       [[0.44313726, 0.48235294, 0.18431373],\n",
              "        [0.6627451 , 0.67058825, 0.5058824 ],\n",
              "        [0.7137255 , 0.6901961 , 0.5176471 ],\n",
              "        ...,\n",
              "        [0.34509805, 0.45490196, 0.12941177],\n",
              "        [0.3882353 , 0.5058824 , 0.13725491],\n",
              "        [0.41960785, 0.5647059 , 0.18039216]],\n",
              "\n",
              "       ...,\n",
              "\n",
              "       [[0.25882354, 0.17254902, 0.05882353],\n",
              "        [0.2901961 , 0.21568628, 0.09803922],\n",
              "        [0.46666667, 0.4745098 , 0.31764707],\n",
              "        ...,\n",
              "        [0.24705882, 0.27058825, 0.10980392],\n",
              "        [0.2       , 0.23921569, 0.06666667],\n",
              "        [0.25882354, 0.29803923, 0.09411765]],\n",
              "\n",
              "       [[0.36078432, 0.34901962, 0.21568628],\n",
              "        [0.36862746, 0.37254903, 0.23137255],\n",
              "        [0.44705883, 0.5686275 , 0.32156864],\n",
              "        ...,\n",
              "        [0.27058825, 0.26666668, 0.09803922],\n",
              "        [0.24705882, 0.24313726, 0.05490196],\n",
              "        [0.18431373, 0.15294118, 0.04313726]],\n",
              "\n",
              "       [[0.33333334, 0.3764706 , 0.1882353 ],\n",
              "        [0.37254903, 0.43137255, 0.21960784],\n",
              "        [0.42745098, 0.5882353 , 0.25882354],\n",
              "        ...,\n",
              "        [0.1764706 , 0.12941177, 0.05490196],\n",
              "        [0.22745098, 0.23137255, 0.07450981],\n",
              "        [0.18039216, 0.21176471, 0.07058824]]], dtype=float32)"
            ]
          },
          "metadata": {},
          "execution_count": 24
        }
      ]
    },
    {
      "cell_type": "code",
      "source": [
        "plt.imshow(test_images[29])\n",
        "plt.show()"
      ],
      "metadata": {
        "colab": {
          "base_uri": "https://localhost:8080/",
          "height": 430
        },
        "id": "e5BgxjUbXH23",
        "outputId": "cae6e24a-c206-4587-e57e-14c55d0101c5"
      },
      "execution_count": 25,
      "outputs": [
        {
          "output_type": "display_data",
          "data": {
            "text/plain": [
              "<Figure size 640x480 with 1 Axes>"
            ],
            "image/png": "[encoded data removed]"
          },
          "metadata": {}
        }
      ]
    },
    {
      "cell_type": "code",
      "source": [
        "test_images[29].shape"
      ],
      "metadata": {
        "colab": {
          "base_uri": "https://localhost:8080/"
        },
        "id": "XoIhHdj9Xgk_",
        "outputId": "b70c2ba6-c448-40d1-c866-c21402aa8059"
      },
      "execution_count": 26,
      "outputs": [
        {
          "output_type": "execute_result",
          "data": {
            "text/plain": [
              "(32, 32, 3)"
            ]
          },
          "metadata": {},
          "execution_count": 26
        }
      ]
    },
    {
      "cell_type": "code",
      "source": [
        "model.predict(test_images[29].reshape(1,32,32,3))"
      ],
      "metadata": {
        "colab": {
          "base_uri": "https://localhost:8080/"
        },
        "id": "8Jl409bHXkJJ",
        "outputId": "103caf82-cf75-4545-fa40-9d345a1c5206"
      },
      "execution_count": 27,
      "outputs": [
        {
          "output_type": "stream",
          "name": "stdout",
          "text": [
            "1/1 [==============================] - 0s 109ms/step\n"
          ]
        },
        {
          "output_type": "execute_result",
          "data": {
            "text/plain": [
              "array([[2.5584798e-06, 8.1793537e-08, 1.3549571e-03, 2.1479200e-04,\n",
              "        3.0790928e-03, 1.3027526e-05, 9.9533540e-01, 2.8671080e-08,\n",
              "        3.4410348e-08, 1.1490579e-07]], dtype=float32)"
            ]
          },
          "metadata": {},
          "execution_count": 27
        }
      ]
    },
    {
      "cell_type": "code",
      "source": [
        "np.argmax(model.predict(test_images[29].reshape(1,32,32,3)))"
      ],
      "metadata": {
        "colab": {
          "base_uri": "https://localhost:8080/"
        },
        "id": "7d9UblPYYlm5",
        "outputId": "e19912c7-d713-4ec0-b221-6330e68b3b56"
      },
      "execution_count": 28,
      "outputs": [
        {
          "output_type": "stream",
          "name": "stdout",
          "text": [
            "1/1 [==============================] - 0s 22ms/step\n"
          ]
        },
        {
          "output_type": "execute_result",
          "data": {
            "text/plain": [
              "6"
            ]
          },
          "metadata": {},
          "execution_count": 28
        }
      ]
    },
    {
      "cell_type": "code",
      "source": [
        "print(\"Class of the first testing image:\", class_names[test_labels[29][0]])"
      ],
      "metadata": {
        "colab": {
          "base_uri": "https://localhost:8080/"
        },
        "id": "zrZikV9UbzOD",
        "outputId": "636e8cd1-82c5-4c1c-89e4-abfd92ce0954"
      },
      "execution_count": 29,
      "outputs": [
        {
          "output_type": "stream",
          "name": "stdout",
          "text": [
            "Class of the first testing image: frog\n"
          ]
        }
      ]
    }
  ]
}